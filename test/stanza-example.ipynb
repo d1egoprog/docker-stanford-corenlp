{
 "cells": [
  {
   "cell_type": "markdown",
   "id": "23372bb6-4c54-4e4f-81c6-9f3ef83c5a28",
   "metadata": {},
   "source": [
    "### Testing the Stanford NLP Server\n",
    "\n",
    "Install the library"
   ]
  },
  {
   "cell_type": "code",
   "execution_count": null,
   "id": "e042eb30-72c0-4e80-9ce5-f2f804978c81",
   "metadata": {},
   "outputs": [],
   "source": [
    "!pip install stanza"
   ]
  },
  {
   "cell_type": "markdown",
   "id": "551ea478-2dc8-424d-bfa4-509a7160f1a8",
   "metadata": {},
   "source": [
    "Import the library and create the sentence to be analized"
   ]
  },
  {
   "cell_type": "code",
   "execution_count": 1,
   "id": "d43f5625-0df7-4a9e-be0d-2df0b7d05608",
   "metadata": {},
   "outputs": [],
   "source": [
    "from stanza.server import CoreNLPClient\n",
    "\n",
    "text = 'The quick brown fox jumped over the lazy dog.'"
   ]
  },
  {
   "cell_type": "markdown",
   "id": "f1157091-8830-41dd-bf43-24dc9c06df14",
   "metadata": {},
   "source": [
    "Connecting with the engine with the DONT_START flag to use the external service, using the openie annotator\n",
    "\n",
    "NOTE: change the IP address and the connection port to your environments specifics"
   ]
  },
  {
   "cell_type": "code",
   "execution_count": 2,
   "id": "fff79cf1-ca0a-4116-b957-efd245d9dfca",
   "metadata": {},
   "outputs": [],
   "source": [
    "with CoreNLPClient(start_server='DONT_START', endpoint='http://0.0.0.0:9000',output_format='json') as client:\n",
    "    resultSt = client.annotate(text=text, annotators=['openie'], output_format='json')"
   ]
  },
  {
   "cell_type": "markdown",
   "id": "5a79a580-e6e3-4d65-8678-fc3a43c4cc42",
   "metadata": {},
   "source": [
    "Print the result"
   ]
  },
  {
   "cell_type": "code",
   "execution_count": 3,
   "id": "cd4b448b-05e4-411d-8f73-d7551930f980",
   "metadata": {},
   "outputs": [
    {
     "name": "stdout",
     "output_type": "stream",
     "text": [
      "{'sentences': [{'index': 0, 'basicDependencies': [{'dep': 'ROOT', 'governor': 0, 'governorGloss': 'ROOT', 'dependent': 5, 'dependentGloss': 'jumped'}, {'dep': 'det', 'governor': 4, 'governorGloss': 'fox', 'dependent': 1, 'dependentGloss': 'The'}, {'dep': 'amod', 'governor': 4, 'governorGloss': 'fox', 'dependent': 2, 'dependentGloss': 'quick'}, {'dep': 'amod', 'governor': 4, 'governorGloss': 'fox', 'dependent': 3, 'dependentGloss': 'brown'}, {'dep': 'nsubj', 'governor': 5, 'governorGloss': 'jumped', 'dependent': 4, 'dependentGloss': 'fox'}, {'dep': 'case', 'governor': 9, 'governorGloss': 'dog', 'dependent': 6, 'dependentGloss': 'over'}, {'dep': 'det', 'governor': 9, 'governorGloss': 'dog', 'dependent': 7, 'dependentGloss': 'the'}, {'dep': 'amod', 'governor': 9, 'governorGloss': 'dog', 'dependent': 8, 'dependentGloss': 'lazy'}, {'dep': 'obl', 'governor': 5, 'governorGloss': 'jumped', 'dependent': 9, 'dependentGloss': 'dog'}, {'dep': 'punct', 'governor': 5, 'governorGloss': 'jumped', 'dependent': 10, 'dependentGloss': '.'}], 'enhancedDependencies': [{'dep': 'ROOT', 'governor': 0, 'governorGloss': 'ROOT', 'dependent': 5, 'dependentGloss': 'jumped'}, {'dep': 'det', 'governor': 4, 'governorGloss': 'fox', 'dependent': 1, 'dependentGloss': 'The'}, {'dep': 'amod', 'governor': 4, 'governorGloss': 'fox', 'dependent': 2, 'dependentGloss': 'quick'}, {'dep': 'amod', 'governor': 4, 'governorGloss': 'fox', 'dependent': 3, 'dependentGloss': 'brown'}, {'dep': 'nsubj', 'governor': 5, 'governorGloss': 'jumped', 'dependent': 4, 'dependentGloss': 'fox'}, {'dep': 'case', 'governor': 9, 'governorGloss': 'dog', 'dependent': 6, 'dependentGloss': 'over'}, {'dep': 'det', 'governor': 9, 'governorGloss': 'dog', 'dependent': 7, 'dependentGloss': 'the'}, {'dep': 'amod', 'governor': 9, 'governorGloss': 'dog', 'dependent': 8, 'dependentGloss': 'lazy'}, {'dep': 'obl:over', 'governor': 5, 'governorGloss': 'jumped', 'dependent': 9, 'dependentGloss': 'dog'}, {'dep': 'punct', 'governor': 5, 'governorGloss': 'jumped', 'dependent': 10, 'dependentGloss': '.'}], 'enhancedPlusPlusDependencies': [{'dep': 'ROOT', 'governor': 0, 'governorGloss': 'ROOT', 'dependent': 5, 'dependentGloss': 'jumped'}, {'dep': 'det', 'governor': 4, 'governorGloss': 'fox', 'dependent': 1, 'dependentGloss': 'The'}, {'dep': 'amod', 'governor': 4, 'governorGloss': 'fox', 'dependent': 2, 'dependentGloss': 'quick'}, {'dep': 'amod', 'governor': 4, 'governorGloss': 'fox', 'dependent': 3, 'dependentGloss': 'brown'}, {'dep': 'nsubj', 'governor': 5, 'governorGloss': 'jumped', 'dependent': 4, 'dependentGloss': 'fox'}, {'dep': 'case', 'governor': 9, 'governorGloss': 'dog', 'dependent': 6, 'dependentGloss': 'over'}, {'dep': 'det', 'governor': 9, 'governorGloss': 'dog', 'dependent': 7, 'dependentGloss': 'the'}, {'dep': 'amod', 'governor': 9, 'governorGloss': 'dog', 'dependent': 8, 'dependentGloss': 'lazy'}, {'dep': 'obl:over', 'governor': 5, 'governorGloss': 'jumped', 'dependent': 9, 'dependentGloss': 'dog'}, {'dep': 'punct', 'governor': 5, 'governorGloss': 'jumped', 'dependent': 10, 'dependentGloss': '.'}], 'openie': [{'subject': 'quick brown fox', 'subjectSpan': [1, 4], 'relation': 'jumped over', 'relationSpan': [4, 6], 'object': 'lazy dog', 'objectSpan': [7, 9]}, {'subject': 'fox', 'subjectSpan': [3, 4], 'relation': 'jumped over', 'relationSpan': [4, 6], 'object': 'dog', 'objectSpan': [8, 9]}, {'subject': 'quick fox', 'subjectSpan': [1, 4], 'relation': 'jumped over', 'relationSpan': [4, 6], 'object': 'dog', 'objectSpan': [8, 9]}, {'subject': 'quick brown fox', 'subjectSpan': [1, 4], 'relation': 'jumped over', 'relationSpan': [4, 6], 'object': 'dog', 'objectSpan': [8, 9]}, {'subject': 'brown fox', 'subjectSpan': [2, 4], 'relation': 'jumped over', 'relationSpan': [4, 6], 'object': 'lazy dog', 'objectSpan': [7, 9]}, {'subject': 'brown fox', 'subjectSpan': [2, 4], 'relation': 'jumped over', 'relationSpan': [4, 6], 'object': 'dog', 'objectSpan': [8, 9]}, {'subject': 'quick fox', 'subjectSpan': [1, 4], 'relation': 'jumped over', 'relationSpan': [4, 6], 'object': 'lazy dog', 'objectSpan': [7, 9]}, {'subject': 'fox', 'subjectSpan': [3, 4], 'relation': 'jumped over', 'relationSpan': [4, 6], 'object': 'lazy dog', 'objectSpan': [7, 9]}], 'tokens': [{'index': 1, 'word': 'The', 'originalText': 'The', 'lemma': 'the', 'characterOffsetBegin': 0, 'characterOffsetEnd': 3, 'pos': 'DT', 'before': '', 'after': ' '}, {'index': 2, 'word': 'quick', 'originalText': 'quick', 'lemma': 'quick', 'characterOffsetBegin': 4, 'characterOffsetEnd': 9, 'pos': 'JJ', 'before': ' ', 'after': ' '}, {'index': 3, 'word': 'brown', 'originalText': 'brown', 'lemma': 'brown', 'characterOffsetBegin': 10, 'characterOffsetEnd': 15, 'pos': 'JJ', 'before': ' ', 'after': ' '}, {'index': 4, 'word': 'fox', 'originalText': 'fox', 'lemma': 'fox', 'characterOffsetBegin': 16, 'characterOffsetEnd': 19, 'pos': 'NN', 'before': ' ', 'after': ' '}, {'index': 5, 'word': 'jumped', 'originalText': 'jumped', 'lemma': 'jump', 'characterOffsetBegin': 20, 'characterOffsetEnd': 26, 'pos': 'VBD', 'before': ' ', 'after': ' '}, {'index': 6, 'word': 'over', 'originalText': 'over', 'lemma': 'over', 'characterOffsetBegin': 27, 'characterOffsetEnd': 31, 'pos': 'IN', 'before': ' ', 'after': ' '}, {'index': 7, 'word': 'the', 'originalText': 'the', 'lemma': 'the', 'characterOffsetBegin': 32, 'characterOffsetEnd': 35, 'pos': 'DT', 'before': ' ', 'after': ' '}, {'index': 8, 'word': 'lazy', 'originalText': 'lazy', 'lemma': 'lazy', 'characterOffsetBegin': 36, 'characterOffsetEnd': 40, 'pos': 'JJ', 'before': ' ', 'after': ' '}, {'index': 9, 'word': 'dog', 'originalText': 'dog', 'lemma': 'dog', 'characterOffsetBegin': 41, 'characterOffsetEnd': 44, 'pos': 'NN', 'before': ' ', 'after': ''}, {'index': 10, 'word': '.', 'originalText': '.', 'lemma': '.', 'characterOffsetBegin': 44, 'characterOffsetEnd': 45, 'pos': '.', 'before': '', 'after': ''}]}]}\n"
     ]
    }
   ],
   "source": [
    "print(resultSt)"
   ]
  },
  {
   "cell_type": "markdown",
   "id": "674c53c6-61a8-456f-99c7-cedc9113768b",
   "metadata": {},
   "source": [
    "#### Enjoy, happy hacking :)"
   ]
  }
 ],
 "metadata": {
  "kernelspec": {
   "display_name": "Python 3 (ipykernel)",
   "language": "python",
   "name": "python3"
  },
  "language_info": {
   "codemirror_mode": {
    "name": "ipython",
    "version": 3
   },
   "file_extension": ".py",
   "mimetype": "text/x-python",
   "name": "python",
   "nbconvert_exporter": "python",
   "pygments_lexer": "ipython3",
   "version": "3.7.13"
  }
 },
 "nbformat": 4,
 "nbformat_minor": 5
}
